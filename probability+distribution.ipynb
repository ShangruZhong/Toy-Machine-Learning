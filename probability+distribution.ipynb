{
 "cells": [
  {
   "cell_type": "markdown",
   "metadata": {},
   "source": [
    "## 如何生成服从正态分布的随机数？\n",
    "\n",
    "### 1. 中心极限定理\n",
    "\n",
    "0-1均匀分布期望0.5，方差1/12，采样n个0-1分布的xi\n",
    "\n",
    "```\n",
    "(sum(xi)-n*0.5)/(sqrt(n)*1/12) = (mean(xi) - 0.5)*sqrt(12*n)\n",
    "```"
   ]
  },
  {
   "cell_type": "code",
   "execution_count": 1,
   "metadata": {
    "collapsed": true
   },
   "outputs": [],
   "source": [
    "import numpy as np\n",
    "import matplotlib.pyplot as plt\n",
    "%matplotlib inline"
   ]
  },
  {
   "cell_type": "code",
   "execution_count": 2,
   "metadata": {},
   "outputs": [
    {
     "data": {
      "text/plain": [
       "(array([ 101.,  101.,   85.,   83.,   92.,  104.,  114.,  102.,   89.,  129.]),\n",
       " array([  7.59230214e-04,   1.00612121e-01,   2.00465011e-01,\n",
       "          3.00317901e-01,   4.00170792e-01,   5.00023682e-01,\n",
       "          5.99876572e-01,   6.99729463e-01,   7.99582353e-01,\n",
       "          8.99435243e-01,   9.99288134e-01]),\n",
       " <a list of 10 Patch objects>)"
      ]
     },
     "execution_count": 2,
     "metadata": {},
     "output_type": "execute_result"
    },
    {
     "data": {
      "image/png": "[encoded data removed]",
      "text/plain": [
       "<matplotlib.figure.Figure at 0x7fbf8c27a8d0>"
      ]
     },
     "metadata": {},
     "output_type": "display_data"
    }
   ],
   "source": [
    "x = np.random.uniform(0,1,1000)\n",
    "plt.hist(x)"
   ]
  },
  {
   "cell_type": "code",
   "execution_count": 3,
   "metadata": {
    "collapsed": true
   },
   "outputs": [],
   "source": [
    "def genNormal_1(sample_size, n):\n",
    "    sample_list = []\n",
    "    for i in xrange(sample_size):\n",
    "        x = (sum(np.random.uniform(0, 1, n)) - 0.5) / (np.sqrt(n)*1/12)\n",
    "        sample_list.append(x)\n",
    "    return sample_list"
   ]
  },
  {
   "cell_type": "code",
   "execution_count": 4,
   "metadata": {},
   "outputs": [
    {
     "data": {
      "text/plain": [
       "(array([   5.,   18.,   67.,  150.,  213.,  255.,  166.,   86.,   32.,    8.]),\n",
       " array([ 48.270084  ,  50.43344766,  52.59681133,  54.76017499,\n",
       "         56.92353865,  59.08690231,  61.25026598,  63.41362964,\n",
       "         65.5769933 ,  67.74035697,  69.90372063]),\n",
       " <a list of 10 Patch objects>)"
      ]
     },
     "execution_count": 4,
     "metadata": {},
     "output_type": "execute_result"
    },
    {
     "data": {
      "image/png": "[encoded data removed]",
      "text/plain": [
       "<matplotlib.figure.Figure at 0x7fbf8c27a790>"
      ]
     },
     "metadata": {},
     "output_type": "display_data"
    }
   ],
   "source": [
    "x = genNormal_1(1000, 100)\n",
    "plt.hist(x)"
   ]
  },
  {
   "cell_type": "code",
   "execution_count": 5,
   "metadata": {},
   "outputs": [
    {
     "data": {
      "text/plain": [
       "(array([   8.,   33.,   92.,  188.,  219.,  226.,  138.,   62.,   28.,    6.]),\n",
       " array([ 1887.31576268,  1889.37418394,  1891.43260521,  1893.49102647,\n",
       "         1895.54944774,  1897.60786901,  1899.66629027,  1901.72471154,\n",
       "         1903.78313281,  1905.84155407,  1907.89997534]),\n",
       " <a list of 10 Patch objects>)"
      ]
     },
     "execution_count": 5,
     "metadata": {},
     "output_type": "execute_result"
    },
    {
     "data": {
      "image/png": "[encoded data removed]",
      "text/plain": [
       "<matplotlib.figure.Figure at 0x7fbf89aac950>"
      ]
     },
     "metadata": {},
     "output_type": "display_data"
    }
   ],
   "source": [
    "x = genNormal_1(1000, 100000)\n",
    "plt.hist(x)"
   ]
  },
  {
   "cell_type": "markdown",
   "metadata": {},
   "source": [
    "### 2. CDF的反函数\n",
    "\n",
    "scipy.special的erfinv（高斯误差函数反函数）可以当做正态分布CDF的反函数，\n",
    "\n",
    "```\n",
    "z = sqrt(2)*f^-1(2*u - 1)\n",
    "```"
   ]
  },
  {
   "cell_type": "code",
   "execution_count": 6,
   "metadata": {
    "collapsed": true
   },
   "outputs": [],
   "source": [
    "from scipy.special import erfinv\n",
    "\n",
    "def genNormal_2(sample_size):\n",
    "    sample_list = []\n",
    "    for i in xrange(sample_size):\n",
    "        z = np.sqrt(2) * erfinv(2 * np.random.uniform(0, 1) - 1)\n",
    "        sample_list.append(z)\n",
    "    return sample_list"
   ]
  },
  {
   "cell_type": "code",
   "execution_count": 7,
   "metadata": {},
   "outputs": [
    {
     "data": {
      "text/plain": [
       "(array([  12.,   31.,  123.,  223.,  275.,  212.,   93.,   22.,    8.,    1.]),\n",
       " array([-3.14851544, -2.44816121, -1.74780698, -1.04745276, -0.34709853,\n",
       "         0.3532557 ,  1.05360993,  1.75396416,  2.45431839,  3.15467262,\n",
       "         3.85502684]),\n",
       " <a list of 10 Patch objects>)"
      ]
     },
     "execution_count": 7,
     "metadata": {},
     "output_type": "execute_result"
    },
    {
     "data": {
      "image/png": "[encoded data removed]",
      "text/plain": [
       "<matplotlib.figure.Figure at 0x7fbf899b1450>"
      ]
     },
     "metadata": {},
     "output_type": "display_data"
    }
   ],
   "source": [
    "x = genNormal_2(1000)\n",
    "plt.hist(x)"
   ]
  },
  {
   "cell_type": "markdown",
   "metadata": {},
   "source": [
    "### 3. Box-Muller变换"
   ]
  },
  {
   "cell_type": "code",
   "execution_count": 8,
   "metadata": {
    "collapsed": true
   },
   "outputs": [],
   "source": [
    "def genNormal_3(sample_size):\n",
    "    sample_list = []\n",
    "    for i in xrange(sample_size):\n",
    "        u1 = np.random.uniform(0, 1)\n",
    "        u2 = np.random.uniform(0, 1)\n",
    "        z = np.sqrt(-2*np.log(u1)) * np.cos(2*np.pi*u2)\n",
    "        sample_list.append(z)\n",
    "    return sample_list"
   ]
  },
  {
   "cell_type": "code",
   "execution_count": 9,
   "metadata": {},
   "outputs": [
    {
     "data": {
      "text/plain": [
       "(array([  13.,   62.,  107.,  178.,  225.,  192.,  125.,   72.,   23.,    3.]),\n",
       " array([-2.58894399, -2.02797555, -1.46700712, -0.90603869, -0.34507026,\n",
       "         0.21589818,  0.77686661,  1.33783504,  1.89880347,  2.45977191,\n",
       "         3.02074034]),\n",
       " <a list of 10 Patch objects>)"
      ]
     },
     "execution_count": 9,
     "metadata": {},
     "output_type": "execute_result"
    },
    {
     "data": {
      "image/png": "[encoded data removed]",
      "text/plain": [
       "<matplotlib.figure.Figure at 0x7fbf89aa76d0>"
      ]
     },
     "metadata": {},
     "output_type": "display_data"
    }
   ],
   "source": [
    "x = genNormal_3(1000)\n",
    "plt.hist(x)"
   ]
  }
 ],
 "metadata": {
  "kernelspec": {
   "display_name": "Python 2",
   "language": "python",
   "name": "python2"
  },
  "language_info": {
   "codemirror_mode": {
    "name": "ipython",
    "version": 2
   },
   "file_extension": ".py",
   "mimetype": "text/x-python",
   "name": "python",
   "nbconvert_exporter": "python",
   "pygments_lexer": "ipython2",
   "version": "2.7.13"
  }
 },
 "nbformat": 4,
 "nbformat_minor": 2
}
